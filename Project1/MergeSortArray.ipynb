{
 "cells": [
  {
   "cell_type": "code",
   "execution_count": 1,
   "id": "3977b75b",
   "metadata": {},
   "outputs": [],
   "source": [
    "#Project 1\n",
    "#Problem 1: Merge 2 subarrays using auxiliary array of min(m,n) size"
   ]
  },
  {
   "cell_type": "code",
   "execution_count": 2,
   "id": "75cae835",
   "metadata": {},
   "outputs": [],
   "source": [
    "import numpy as np"
   ]
  },
  {
   "cell_type": "code",
   "execution_count": 3,
   "id": "6ec7f856",
   "metadata": {},
   "outputs": [],
   "source": [
    "def mysort(a, n, m):\n",
    "\n",
    "    if n == 0 or m == 0:\n",
    "        return a\n",
    "    else:\n",
    "        l = min(n,m)    #length of smaller subarray\n",
    "        h = max(n,m)    #length of larger subarray\n",
    "        Aux = [0]*l     #Create auxiliary array of length min(n,m)\n",
    "\n",
    "        #Initialize auxiliary array with the elements of smaller subarray\n",
    "        for i in range(n+m-l, n+m, 1):\n",
    "            Aux[i-n-m+l] = a[i]\n",
    "\n",
    "\n",
    "       #Sort main array in asc order till the length of larger subarray\n",
    "       #Shift larger elements into aux array and sort it in asc order\n",
    "        for i in range(h):\n",
    "            if a[i] > Aux[0]:\n",
    "                temp = Aux[0]\n",
    "                Aux[0] = a[i]\n",
    "                a[i] = temp\n",
    "                #sorting aux array in asc order\n",
    "                if l>1 and Aux[0]>Aux[1]:\n",
    "                    for k in range(1,l):\n",
    "                        if Aux[k]<Aux[k-1]:\n",
    "                            t = Aux[k-1]\n",
    "                            Aux[k-1] = Aux[k]\n",
    "                            Aux[k] = t\n",
    "\n",
    "        #replace last l elements of the main array with aux array\n",
    "        for i in range(h,n+m):\n",
    "            a[i] = Aux[i-h]\n",
    "        return a"
   ]
  },
  {
   "cell_type": "code",
   "execution_count": 4,
   "id": "64f6d236",
   "metadata": {},
   "outputs": [],
   "source": [
    "def concat(a1,a2):\n",
    "    if len(a1) < len(a2):\n",
    "        if len(a1)<1:\n",
    "            a = a2\n",
    "        else:\n",
    "            a = np.concatenate([a2,a1])\n",
    "    else:\n",
    "        if len(a2) < 1:\n",
    "            a = a1\n",
    "        else:\n",
    "            a = np.concatenate([a1,a2])\n",
    "    return a"
   ]
  },
  {
   "cell_type": "code",
   "execution_count": 5,
   "id": "63fd9697",
   "metadata": {},
   "outputs": [
    {
     "name": "stdout",
     "output_type": "stream",
     "text": [
      "\n",
      "Testcase 1:\n",
      "Array  [3, 7, 9]\n",
      "Sorted array [3, 7, 9]\n",
      "\n",
      "Testcase 2:\n",
      "Array  [2 7 9 1]\n",
      "Sorted array [1 2 7 9]\n",
      "\n",
      "Testcase 3:\n",
      "Array  [ 1  7 10 15  3  8 12 18]\n",
      "Sorted array [ 1  3  7  8 10 12 15 18]\n",
      "\n",
      "Testcase 4:\n",
      "Array  [ 5  5  6  8 10 12 16 17 17 20 25 28  1  3  5  5 15 18 21]\n",
      "Sorted array [ 1  3  5  5  5  5  6  8 10 12 15 16 17 17 18 20 21 25 28]\n"
     ]
    }
   ],
   "source": [
    "def __main__():\n",
    "    print(\"\\nTestcase 1:\")\n",
    "    a11 = []\n",
    "    a12 = [3,7,9]\n",
    "    a1 = concat(a11,a12)\n",
    "    print(\"Array \",a1)\n",
    "    test1 = mysort(a1,len(a11), len(a12))\n",
    "    print(\"Sorted array\", test1)\n",
    "\n",
    "    print(\"\\nTestcase 2:\")\n",
    "    a21 = [2,7,9]\n",
    "    a22 = [1]\n",
    "    a2 = concat(a21,a22)\n",
    "    print(\"Array \",a2)\n",
    "    test2 = mysort(a2,len(a21), len(a22))\n",
    "    print(\"Sorted array\", test2)\n",
    "    \n",
    "    print(\"\\nTestcase 3:\")\n",
    "    a31 = [1,7,10,15]\n",
    "    a32 = [3,8,12,18]\n",
    "    a3 = concat(a31,a32)\n",
    "    print(\"Array \",a3)\n",
    "    test3 = mysort(a3,len(a31), len(a32))\n",
    "    print(\"Sorted array\", test3)\n",
    "\n",
    "    print(\"\\nTestcase 4:\")\n",
    "    a41 = [1, 3, 5, 5, 15, 18, 21]\n",
    "    a42 = [5, 5, 6, 8, 10, 12, 16, 17, 17, 20, 25, 28]\n",
    "    a4 = concat(a41,a42)\n",
    "    print(\"Array \",a4)\n",
    "    test4 = mysort(a4,len(a41), len(a42))\n",
    "    print(\"Sorted array\", test4)\n",
    "\n",
    "__main__()\n",
    "\n"
   ]
  }
 ],
 "metadata": {
  "kernelspec": {
   "display_name": "Python 3",
   "language": "python",
   "name": "python3"
  },
  "language_info": {
   "codemirror_mode": {
    "name": "ipython",
    "version": 3
   },
   "file_extension": ".py",
   "mimetype": "text/x-python",
   "name": "python",
   "nbconvert_exporter": "python",
   "pygments_lexer": "ipython3",
   "version": "3.8.8"
  }
 },
 "nbformat": 4,
 "nbformat_minor": 5
}
